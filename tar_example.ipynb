{
 "cells": [
  {
   "cell_type": "code",
   "execution_count": 1,
   "metadata": {},
   "outputs": [],
   "source": [
    "# example of usage of archive tools to compress a folder and create list of files and md5 hashes.\n",
    "import shutil\n",
    "import logging\n",
    "from archivetools import tar as tt\n",
    "\n",
    "logging.basicConfig(filename='backup.log', level=logging.DEBUG)"
   ]
  },
  {
   "cell_type": "code",
   "execution_count": null,
   "metadata": {
    "collapsed": true
   },
   "outputs": [],
   "source": [
    "# compress the contents of source_folder into a triad:\n",
    "#  - session.tar.xz (tar archive with the contents of the session folder)\n",
    "#  - session.mdl (csv list list of name, md5checksum of all the contents)\n",
    "#  - session.md5 (just the md5checksum of the .tar.xz archive)\n",
    "# located in tmp_folder/session\n",
    "\n",
    "dest_file, md5_arch, md_list = tt.compress_folder(source_folder, tmp_folder, dest_name, mode='w:xz')\n",
    "\n",
    "# check_list is a list of lists [name, md5 checksum]\n",
    "# check_ok is True if the md5checksum of all the files in the archive\n",
    "# (computed post-hoc) coincide with the ones in check_list\n",
    "check_list, check_ok = tt.check_tar_archive(dest_file, md_list)\n",
    "\n",
    "# Mind that all the files are read (chunked) several times,\n",
    "# hence you want to do the compression/check in a local scratchpad\n",
    "# rather than over a samba share.\n",
    "\n",
    "# If everything checks, move the archive from tmp to its final dest.\n",
    "assert (check_ok), \"There were errors compressing the file\"\n",
    "shutil.move(tmp_folder, dest_folder)\n",
    "\n",
    "# and If dared, actually remove the uncompressed data\n",
    "#shutil.rmtree(source_folder)"
   ]
  }
 ],
 "metadata": {
  "anaconda-cloud": {},
  "kernelspec": {
   "display_name": "Tf 1.2 - Py3.6",
   "language": "python",
   "name": "tf12"
  },
  "language_info": {
   "codemirror_mode": {
    "name": "ipython",
    "version": 3
   },
   "file_extension": ".py",
   "mimetype": "text/x-python",
   "name": "python",
   "nbconvert_exporter": "python",
   "pygments_lexer": "ipython3",
   "version": "3.6.2"
  }
 },
 "nbformat": 4,
 "nbformat_minor": 1
}
